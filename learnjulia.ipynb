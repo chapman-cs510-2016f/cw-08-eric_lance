{
 "cells": [
  {
   "cell_type": "markdown",
   "metadata": {
    "collapsed": false
   },
   "source": [
    "# CW-08 Learn Julia Tutorial Exercise\n",
    "## Lance Clifner, Eric Freda\n",
    "CS-510\n",
    "<br>October 18, 2016"
   ]
  },
  {
   "cell_type": "markdown",
   "metadata": {},
   "source": [
    "## Julia Syntax\n",
    "1. What is the julia syntax for the following coding elements?\n",
    " * Comments\n",
    " * Variable Declarations\n",
    " * Printing Output"
   ]
  }
 ],
 "metadata": {
  "kernelspec": {
   "display_name": "Julia",
   "language": "julia",
   "name": "julia"
  },
  "language_info": {
   "file_extension": ".jl",
   "mimetype": "application/julia",
   "name": "julia",
   "version": "0.4.6"
  }
 },
 "nbformat": 4,
 "nbformat_minor": 0
}
