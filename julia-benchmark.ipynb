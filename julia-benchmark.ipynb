{
 "cells": [
  {
   "cell_type": "code",
   "execution_count": null,
   "metadata": {
    "collapsed": false
   },
   "outputs": [],
   "source": [
    "# use python3 for this demonstration of ABC\n",
    "#!/usr/bin/env/python3\n",
    "# to activate python3 kernel in jupyter, must use the menu \"Kernel\" to select the\n",
    "# python3 kernel\n",
    "# once the kernel is set, the jupyter doc remembers the last kernel activated.\n",
    "import numpy as np               # for improved math library\n",
    "import matplotlib.pyplot as plt  # for plotting\n",
    "%matplotlib inline"
   ]
  },
  {
   "cell_type": "markdown",
   "metadata": {},
   "source": [
    "# CW-08 Julia Benchmarking (Python)\n",
    "## README Item #2\n",
    "## Lance Clifner, Eric Freda\n",
    "CS-510\n",
    "<br>October 18, 2016"
   ]
  }
 ],
 "metadata": {
  "kernelspec": {
   "display_name": "Python 3",
   "language": "python",
   "name": "python3"
  },
  "language_info": {
   "codemirror_mode": {
    "name": "ipython",
    "version": 3
   },
   "file_extension": ".py",
   "mimetype": "text/x-python",
   "name": "python",
   "nbconvert_exporter": "python",
   "pygments_lexer": "ipython3",
   "version": "3.4.3+"
  }
 },
 "nbformat": 4,
 "nbformat_minor": 0
}
