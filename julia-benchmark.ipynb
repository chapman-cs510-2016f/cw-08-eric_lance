{
 "cells": [
  {
   "cell_type": "code",
   "execution_count": 1,
   "metadata": {
    "collapsed": false
   },
   "outputs": [],
   "source": [
    "# use python3 for this demonstration of ABC\n",
    "#!/usr/bin/env/python3\n",
    "# to activate python3 kernel in jupyter, must use the menu \"Kernel\" to select the\n",
    "# python3 kernel\n",
    "# once the kernel is set, the jupyter doc remembers the last kernel activated.\n",
    "import numpy as np               # for improved math library\n",
    "import matplotlib.pyplot as plt  # for plotting\n",
    "from cplane_np import JuliaPlane as jp, JuliaPlaneNV as jnv\n",
    "%matplotlib inline"
   ]
  },
  {
   "cell_type": "markdown",
   "metadata": {},
   "source": [
    "# CW-08 Julia Benchmarking (Python)\n",
    "## README Item #2\n",
    "## Lance Clifner, Eric Freda\n",
    "CS-510\n",
    "<br>October 18, 2016"
   ]
  },
  {
   "cell_type": "code",
   "execution_count": 3,
   "metadata": {
    "collapsed": false
   },
   "outputs": [
    {
     "name": "stdout",
     "output_type": "stream",
     "text": [
      "CPU times: user 1min 19s, sys: 324 ms, total: 1min 20s\n",
      "Wall time: 1min 22s\n"
     ]
    }
   ],
   "source": [
    "# run plain vanilla (no numba, non-vectorized code)\n",
    "%time data = jnv(-2, 2, 5000, -2, 2, 5000, -0.835 - 0.2321j, 100 )\n"
   ]
  },
  {
   "cell_type": "markdown",
   "metadata": {},
   "source": [
    "## Benchmarks\n",
    "The `refresh()` function is called when the JuliaPlane object is created.  These benchmark numbers are generated from the JuliaPlaneNV class (non-vectorized code) and the JuliaPlane class (modified to support vectorized code).\n",
    "\n",
    "1. Plain vanilla, 5000x5000 mesh using python for loops for creation of the complex array:\n",
    "<br>CPU times: user 1min 21s, sys: 588 ms, total: 1min 21s\n",
    "<br>Wall time: 1min 23s\n",
    "1. With Numba, 5000x5000 mesh:\n",
    "<br>CPU times: user 55.7 s, sys: 464 ms, total: 56.2 s\n",
    "<br>Wall time: 57.2 s\n",
    "1. With Numba, 5000x5000 mesh using np.linspace/meshgrid creation of the complex array\n",
    "<br>CPU times: user 1.39 s, sys: 2.31 s, total: 3.7 s\n",
    "<br>Wall time: 5.55 s"
   ]
  },
  {
   "cell_type": "code",
   "execution_count": 2,
   "metadata": {
    "collapsed": false
   },
   "outputs": [
    {
     "name": "stdout",
     "output_type": "stream",
     "text": [
      "CPU times: user 1.46 s, sys: 3.15 s, total: 4.61 s\n",
      "Wall time: 6.27 s\n"
     ]
    }
   ],
   "source": [
    "# with numba\n",
    "%time data = jp(-2, 2, 5000, -2, 2, 5000, -0.835 - 0.2321j, 100 )\n"
   ]
  },
  {
   "cell_type": "code",
   "execution_count": null,
   "metadata": {
    "collapsed": true
   },
   "outputs": [],
   "source": [
    "# with numba, not vectorized\n",
    "# (Note to run this cell, you must first comment out the\n",
    "# @nb.vectorize([nb.int32(nb.complex128)]) line in the cplane_np.py file.\n",
    "# Then restart the python kernel in jupyter and only then re-run this cell)\n",
    "%time data = jp(-2, 2, 5000, -2, 2, 5000, -0.835 - 0.2321j, 100 )"
   ]
  },
  {
   "cell_type": "markdown",
   "metadata": {},
   "source": [
    "## Commentary\n",
    "It is clear that the plain vanilla, unvectorized code is very slow, taking nearly 20 times longer to run than the vectorized, Just-in-time compiled code of the modified JuliaPlane class.\n",
    "\n",
    "The speed difference comes from two main aspects:\n",
    "1. The JuliaPlaneNV class uses two nested python `for` loops to create the individual cells of the rows and columns in the plane, with each cell being passed to the transformation function and returning the final value.  The JuliaPlane class creates the plane using `np.linspace()` and `np.meshgrid()` rather than using `for` loops.\n",
    "2. The JuliaPlane class uses the `julia()` function which is numba vectorized, meaning that it processes the array quickly rather than cell-by-cell.\n",
    "\n",
    "We benchmarked the numba modified code using the `for` loops and including numba vectorization of the `julia()` function, and found the execution time to be approximately 1/3 faster than the plain vanilla code.  This shows that the nested python `for` loops are the greatest contributor to the vanilla code's slow performance.  \n"
   ]
  }
 ],
 "metadata": {
  "kernelspec": {
   "display_name": "Python 3",
   "language": "python",
   "name": "python3"
  },
  "language_info": {
   "codemirror_mode": {
    "name": "ipython",
    "version": 3
   },
   "file_extension": ".py",
   "mimetype": "text/x-python",
   "name": "python",
   "nbconvert_exporter": "python",
   "pygments_lexer": "ipython3",
   "version": "3.4.3+"
  }
 },
 "nbformat": 4,
 "nbformat_minor": 0
}
